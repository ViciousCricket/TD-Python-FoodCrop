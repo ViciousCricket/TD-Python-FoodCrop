{
  "nbformat": 4,
  "nbformat_minor": 0,
  "metadata": {
    "colab": {
      "name": "Image",
      "provenance": [],
      "collapsed_sections": [],
      "include_colab_link": true
    },
    "kernelspec": {
      "name": "python3",
      "display_name": "Python 3"
    },
    "widgets": {
      "application/vnd.jupyter.widget-state+json": {
        "eb93e4ae8cd0427d8935cfd07b3501f1": {
          "model_module": "@jupyter-widgets/controls",
          "model_name": "HBoxModel",
          "state": {
            "_view_name": "HBoxView",
            "_dom_classes": [],
            "_model_name": "HBoxModel",
            "_view_module": "@jupyter-widgets/controls",
            "_model_module_version": "1.5.0",
            "_view_count": null,
            "_view_module_version": "1.5.0",
            "box_style": "",
            "layout": "IPY_MODEL_4c9988c3f05f43a8abf3437c5240ab4a",
            "_model_module": "@jupyter-widgets/controls",
            "children": [
              "IPY_MODEL_0232d5974a60436e9063ac9dcb0fc47c",
              "IPY_MODEL_7cac8dadeb6d4f4f845ad363a220e28e"
            ]
          }
        },
        "4c9988c3f05f43a8abf3437c5240ab4a": {
          "model_module": "@jupyter-widgets/base",
          "model_name": "LayoutModel",
          "state": {
            "_view_name": "LayoutView",
            "grid_template_rows": null,
            "right": null,
            "justify_content": null,
            "_view_module": "@jupyter-widgets/base",
            "overflow": null,
            "_model_module_version": "1.2.0",
            "_view_count": null,
            "flex_flow": null,
            "width": null,
            "min_width": null,
            "border": null,
            "align_items": null,
            "bottom": null,
            "_model_module": "@jupyter-widgets/base",
            "top": null,
            "grid_column": null,
            "overflow_y": null,
            "overflow_x": null,
            "grid_auto_flow": null,
            "grid_area": null,
            "grid_template_columns": null,
            "flex": null,
            "_model_name": "LayoutModel",
            "justify_items": null,
            "grid_row": null,
            "max_height": null,
            "align_content": null,
            "visibility": null,
            "align_self": null,
            "height": null,
            "min_height": null,
            "padding": null,
            "grid_auto_rows": null,
            "grid_gap": null,
            "max_width": null,
            "order": null,
            "_view_module_version": "1.2.0",
            "grid_template_areas": null,
            "object_position": null,
            "object_fit": null,
            "grid_auto_columns": null,
            "margin": null,
            "display": null,
            "left": null
          }
        },
        "0232d5974a60436e9063ac9dcb0fc47c": {
          "model_module": "@jupyter-widgets/controls",
          "model_name": "FloatProgressModel",
          "state": {
            "_view_name": "ProgressView",
            "style": "IPY_MODEL_723b69b33c1543ad84153d95a26e0351",
            "_dom_classes": [],
            "description": "Downloading: 100%",
            "_model_name": "FloatProgressModel",
            "bar_style": "success",
            "max": 736,
            "_view_module": "@jupyter-widgets/controls",
            "_model_module_version": "1.5.0",
            "value": 736,
            "_view_count": null,
            "_view_module_version": "1.5.0",
            "orientation": "horizontal",
            "min": 0,
            "description_tooltip": null,
            "_model_module": "@jupyter-widgets/controls",
            "layout": "IPY_MODEL_98517977eee149cdb84821515a8a0b0e"
          }
        },
        "7cac8dadeb6d4f4f845ad363a220e28e": {
          "model_module": "@jupyter-widgets/controls",
          "model_name": "HTMLModel",
          "state": {
            "_view_name": "HTMLView",
            "style": "IPY_MODEL_afc4fbc489d844ae8776ecf4ba2ab076",
            "_dom_classes": [],
            "description": "",
            "_model_name": "HTMLModel",
            "placeholder": "​",
            "_view_module": "@jupyter-widgets/controls",
            "_model_module_version": "1.5.0",
            "value": " 736/736 [00:00&lt;00:00, 3.78kB/s]",
            "_view_count": null,
            "_view_module_version": "1.5.0",
            "description_tooltip": null,
            "_model_module": "@jupyter-widgets/controls",
            "layout": "IPY_MODEL_59c2273d85d8440091e600640db741d1"
          }
        },
        "723b69b33c1543ad84153d95a26e0351": {
          "model_module": "@jupyter-widgets/controls",
          "model_name": "ProgressStyleModel",
          "state": {
            "_view_name": "StyleView",
            "_model_name": "ProgressStyleModel",
            "description_width": "initial",
            "_view_module": "@jupyter-widgets/base",
            "_model_module_version": "1.5.0",
            "_view_count": null,
            "_view_module_version": "1.2.0",
            "bar_color": null,
            "_model_module": "@jupyter-widgets/controls"
          }
        },
        "98517977eee149cdb84821515a8a0b0e": {
          "model_module": "@jupyter-widgets/base",
          "model_name": "LayoutModel",
          "state": {
            "_view_name": "LayoutView",
            "grid_template_rows": null,
            "right": null,
            "justify_content": null,
            "_view_module": "@jupyter-widgets/base",
            "overflow": null,
            "_model_module_version": "1.2.0",
            "_view_count": null,
            "flex_flow": null,
            "width": null,
            "min_width": null,
            "border": null,
            "align_items": null,
            "bottom": null,
            "_model_module": "@jupyter-widgets/base",
            "top": null,
            "grid_column": null,
            "overflow_y": null,
            "overflow_x": null,
            "grid_auto_flow": null,
            "grid_area": null,
            "grid_template_columns": null,
            "flex": null,
            "_model_name": "LayoutModel",
            "justify_items": null,
            "grid_row": null,
            "max_height": null,
            "align_content": null,
            "visibility": null,
            "align_self": null,
            "height": null,
            "min_height": null,
            "padding": null,
            "grid_auto_rows": null,
            "grid_gap": null,
            "max_width": null,
            "order": null,
            "_view_module_version": "1.2.0",
            "grid_template_areas": null,
            "object_position": null,
            "object_fit": null,
            "grid_auto_columns": null,
            "margin": null,
            "display": null,
            "left": null
          }
        },
        "afc4fbc489d844ae8776ecf4ba2ab076": {
          "model_module": "@jupyter-widgets/controls",
          "model_name": "DescriptionStyleModel",
          "state": {
            "_view_name": "StyleView",
            "_model_name": "DescriptionStyleModel",
            "description_width": "",
            "_view_module": "@jupyter-widgets/base",
            "_model_module_version": "1.5.0",
            "_view_count": null,
            "_view_module_version": "1.2.0",
            "_model_module": "@jupyter-widgets/controls"
          }
        },
        "59c2273d85d8440091e600640db741d1": {
          "model_module": "@jupyter-widgets/base",
          "model_name": "LayoutModel",
          "state": {
            "_view_name": "LayoutView",
            "grid_template_rows": null,
            "right": null,
            "justify_content": null,
            "_view_module": "@jupyter-widgets/base",
            "overflow": null,
            "_model_module_version": "1.2.0",
            "_view_count": null,
            "flex_flow": null,
            "width": null,
            "min_width": null,
            "border": null,
            "align_items": null,
            "bottom": null,
            "_model_module": "@jupyter-widgets/base",
            "top": null,
            "grid_column": null,
            "overflow_y": null,
            "overflow_x": null,
            "grid_auto_flow": null,
            "grid_area": null,
            "grid_template_columns": null,
            "flex": null,
            "_model_name": "LayoutModel",
            "justify_items": null,
            "grid_row": null,
            "max_height": null,
            "align_content": null,
            "visibility": null,
            "align_self": null,
            "height": null,
            "min_height": null,
            "padding": null,
            "grid_auto_rows": null,
            "grid_gap": null,
            "max_width": null,
            "order": null,
            "_view_module_version": "1.2.0",
            "grid_template_areas": null,
            "object_position": null,
            "object_fit": null,
            "grid_auto_columns": null,
            "margin": null,
            "display": null,
            "left": null
          }
        },
        "f0fc225cc99945d8bc1dcea4d5088bc2": {
          "model_module": "@jupyter-widgets/controls",
          "model_name": "HBoxModel",
          "state": {
            "_view_name": "HBoxView",
            "_dom_classes": [],
            "_model_name": "HBoxModel",
            "_view_module": "@jupyter-widgets/controls",
            "_model_module_version": "1.5.0",
            "_view_count": null,
            "_view_module_version": "1.5.0",
            "box_style": "",
            "layout": "IPY_MODEL_f7234d3d153945c7ae084155ea58a26c",
            "_model_module": "@jupyter-widgets/controls",
            "children": [
              "IPY_MODEL_412545fa7ab44b2686724aaf21ea778d",
              "IPY_MODEL_9b5e6a690d7f429b92d4d8c146e41093"
            ]
          }
        },
        "f7234d3d153945c7ae084155ea58a26c": {
          "model_module": "@jupyter-widgets/base",
          "model_name": "LayoutModel",
          "state": {
            "_view_name": "LayoutView",
            "grid_template_rows": null,
            "right": null,
            "justify_content": null,
            "_view_module": "@jupyter-widgets/base",
            "overflow": null,
            "_model_module_version": "1.2.0",
            "_view_count": null,
            "flex_flow": null,
            "width": null,
            "min_width": null,
            "border": null,
            "align_items": null,
            "bottom": null,
            "_model_module": "@jupyter-widgets/base",
            "top": null,
            "grid_column": null,
            "overflow_y": null,
            "overflow_x": null,
            "grid_auto_flow": null,
            "grid_area": null,
            "grid_template_columns": null,
            "flex": null,
            "_model_name": "LayoutModel",
            "justify_items": null,
            "grid_row": null,
            "max_height": null,
            "align_content": null,
            "visibility": null,
            "align_self": null,
            "height": null,
            "min_height": null,
            "padding": null,
            "grid_auto_rows": null,
            "grid_gap": null,
            "max_width": null,
            "order": null,
            "_view_module_version": "1.2.0",
            "grid_template_areas": null,
            "object_position": null,
            "object_fit": null,
            "grid_auto_columns": null,
            "margin": null,
            "display": null,
            "left": null
          }
        },
        "412545fa7ab44b2686724aaf21ea778d": {
          "model_module": "@jupyter-widgets/controls",
          "model_name": "FloatProgressModel",
          "state": {
            "_view_name": "ProgressView",
            "style": "IPY_MODEL_807fcc23611144f195b8b6061825aac1",
            "_dom_classes": [],
            "description": "Downloading: 100%",
            "_model_name": "FloatProgressModel",
            "bar_style": "success",
            "max": 760289,
            "_view_module": "@jupyter-widgets/controls",
            "_model_module_version": "1.5.0",
            "value": 760289,
            "_view_count": null,
            "_view_module_version": "1.5.0",
            "orientation": "horizontal",
            "min": 0,
            "description_tooltip": null,
            "_model_module": "@jupyter-widgets/controls",
            "layout": "IPY_MODEL_e091c9bf385949898bc8cffcb51e4aa5"
          }
        },
        "9b5e6a690d7f429b92d4d8c146e41093": {
          "model_module": "@jupyter-widgets/controls",
          "model_name": "HTMLModel",
          "state": {
            "_view_name": "HTMLView",
            "style": "IPY_MODEL_bb25490dd6c848b4ba51d375b731bd35",
            "_dom_classes": [],
            "description": "",
            "_model_name": "HTMLModel",
            "placeholder": "​",
            "_view_module": "@jupyter-widgets/controls",
            "_model_module_version": "1.5.0",
            "value": " 760k/760k [00:00&lt;00:00, 1.19MB/s]",
            "_view_count": null,
            "_view_module_version": "1.5.0",
            "description_tooltip": null,
            "_model_module": "@jupyter-widgets/controls",
            "layout": "IPY_MODEL_6bddffd86b964d33bf1fa5ba13727cad"
          }
        },
        "807fcc23611144f195b8b6061825aac1": {
          "model_module": "@jupyter-widgets/controls",
          "model_name": "ProgressStyleModel",
          "state": {
            "_view_name": "StyleView",
            "_model_name": "ProgressStyleModel",
            "description_width": "initial",
            "_view_module": "@jupyter-widgets/base",
            "_model_module_version": "1.5.0",
            "_view_count": null,
            "_view_module_version": "1.2.0",
            "bar_color": null,
            "_model_module": "@jupyter-widgets/controls"
          }
        },
        "e091c9bf385949898bc8cffcb51e4aa5": {
          "model_module": "@jupyter-widgets/base",
          "model_name": "LayoutModel",
          "state": {
            "_view_name": "LayoutView",
            "grid_template_rows": null,
            "right": null,
            "justify_content": null,
            "_view_module": "@jupyter-widgets/base",
            "overflow": null,
            "_model_module_version": "1.2.0",
            "_view_count": null,
            "flex_flow": null,
            "width": null,
            "min_width": null,
            "border": null,
            "align_items": null,
            "bottom": null,
            "_model_module": "@jupyter-widgets/base",
            "top": null,
            "grid_column": null,
            "overflow_y": null,
            "overflow_x": null,
            "grid_auto_flow": null,
            "grid_area": null,
            "grid_template_columns": null,
            "flex": null,
            "_model_name": "LayoutModel",
            "justify_items": null,
            "grid_row": null,
            "max_height": null,
            "align_content": null,
            "visibility": null,
            "align_self": null,
            "height": null,
            "min_height": null,
            "padding": null,
            "grid_auto_rows": null,
            "grid_gap": null,
            "max_width": null,
            "order": null,
            "_view_module_version": "1.2.0",
            "grid_template_areas": null,
            "object_position": null,
            "object_fit": null,
            "grid_auto_columns": null,
            "margin": null,
            "display": null,
            "left": null
          }
        },
        "bb25490dd6c848b4ba51d375b731bd35": {
          "model_module": "@jupyter-widgets/controls",
          "model_name": "DescriptionStyleModel",
          "state": {
            "_view_name": "StyleView",
            "_model_name": "DescriptionStyleModel",
            "description_width": "",
            "_view_module": "@jupyter-widgets/base",
            "_model_module_version": "1.5.0",
            "_view_count": null,
            "_view_module_version": "1.2.0",
            "_model_module": "@jupyter-widgets/controls"
          }
        },
        "6bddffd86b964d33bf1fa5ba13727cad": {
          "model_module": "@jupyter-widgets/base",
          "model_name": "LayoutModel",
          "state": {
            "_view_name": "LayoutView",
            "grid_template_rows": null,
            "right": null,
            "justify_content": null,
            "_view_module": "@jupyter-widgets/base",
            "overflow": null,
            "_model_module_version": "1.2.0",
            "_view_count": null,
            "flex_flow": null,
            "width": null,
            "min_width": null,
            "border": null,
            "align_items": null,
            "bottom": null,
            "_model_module": "@jupyter-widgets/base",
            "top": null,
            "grid_column": null,
            "overflow_y": null,
            "overflow_x": null,
            "grid_auto_flow": null,
            "grid_area": null,
            "grid_template_columns": null,
            "flex": null,
            "_model_name": "LayoutModel",
            "justify_items": null,
            "grid_row": null,
            "max_height": null,
            "align_content": null,
            "visibility": null,
            "align_self": null,
            "height": null,
            "min_height": null,
            "padding": null,
            "grid_auto_rows": null,
            "grid_gap": null,
            "max_width": null,
            "order": null,
            "_view_module_version": "1.2.0",
            "grid_template_areas": null,
            "object_position": null,
            "object_fit": null,
            "grid_auto_columns": null,
            "margin": null,
            "display": null,
            "left": null
          }
        },
        "9b3ce5656d6b441baacd7236c1107cda": {
          "model_module": "@jupyter-widgets/controls",
          "model_name": "HBoxModel",
          "state": {
            "_view_name": "HBoxView",
            "_dom_classes": [],
            "_model_name": "HBoxModel",
            "_view_module": "@jupyter-widgets/controls",
            "_model_module_version": "1.5.0",
            "_view_count": null,
            "_view_module_version": "1.5.0",
            "box_style": "",
            "layout": "IPY_MODEL_32f44d7b5def455986a298a0ca1acfe1",
            "_model_module": "@jupyter-widgets/controls",
            "children": [
              "IPY_MODEL_8dd9771c22ed4a519c28bfc22de95779",
              "IPY_MODEL_d7336b39b0994aa09f0b563379198eb1"
            ]
          }
        },
        "32f44d7b5def455986a298a0ca1acfe1": {
          "model_module": "@jupyter-widgets/base",
          "model_name": "LayoutModel",
          "state": {
            "_view_name": "LayoutView",
            "grid_template_rows": null,
            "right": null,
            "justify_content": null,
            "_view_module": "@jupyter-widgets/base",
            "overflow": null,
            "_model_module_version": "1.2.0",
            "_view_count": null,
            "flex_flow": null,
            "width": null,
            "min_width": null,
            "border": null,
            "align_items": null,
            "bottom": null,
            "_model_module": "@jupyter-widgets/base",
            "top": null,
            "grid_column": null,
            "overflow_y": null,
            "overflow_x": null,
            "grid_auto_flow": null,
            "grid_area": null,
            "grid_template_columns": null,
            "flex": null,
            "_model_name": "LayoutModel",
            "justify_items": null,
            "grid_row": null,
            "max_height": null,
            "align_content": null,
            "visibility": null,
            "align_self": null,
            "height": null,
            "min_height": null,
            "padding": null,
            "grid_auto_rows": null,
            "grid_gap": null,
            "max_width": null,
            "order": null,
            "_view_module_version": "1.2.0",
            "grid_template_areas": null,
            "object_position": null,
            "object_fit": null,
            "grid_auto_columns": null,
            "margin": null,
            "display": null,
            "left": null
          }
        },
        "8dd9771c22ed4a519c28bfc22de95779": {
          "model_module": "@jupyter-widgets/controls",
          "model_name": "FloatProgressModel",
          "state": {
            "_view_name": "ProgressView",
            "style": "IPY_MODEL_26216c7fdd97439881f770c15b6f76bd",
            "_dom_classes": [],
            "description": "Downloading: 100%",
            "_model_name": "FloatProgressModel",
            "bar_style": "success",
            "max": 156,
            "_view_module": "@jupyter-widgets/controls",
            "_model_module_version": "1.5.0",
            "value": 156,
            "_view_count": null,
            "_view_module_version": "1.5.0",
            "orientation": "horizontal",
            "min": 0,
            "description_tooltip": null,
            "_model_module": "@jupyter-widgets/controls",
            "layout": "IPY_MODEL_c7628af48aae448881ef52f3f4cde395"
          }
        },
        "d7336b39b0994aa09f0b563379198eb1": {
          "model_module": "@jupyter-widgets/controls",
          "model_name": "HTMLModel",
          "state": {
            "_view_name": "HTMLView",
            "style": "IPY_MODEL_8b7be87e49d540c3a303ac950b301320",
            "_dom_classes": [],
            "description": "",
            "_model_name": "HTMLModel",
            "placeholder": "​",
            "_view_module": "@jupyter-widgets/controls",
            "_model_module_version": "1.5.0",
            "value": " 156/156 [00:00&lt;00:00, 364B/s]",
            "_view_count": null,
            "_view_module_version": "1.5.0",
            "description_tooltip": null,
            "_model_module": "@jupyter-widgets/controls",
            "layout": "IPY_MODEL_bd8046d3cf1546449df54a55a9627571"
          }
        },
        "26216c7fdd97439881f770c15b6f76bd": {
          "model_module": "@jupyter-widgets/controls",
          "model_name": "ProgressStyleModel",
          "state": {
            "_view_name": "StyleView",
            "_model_name": "ProgressStyleModel",
            "description_width": "initial",
            "_view_module": "@jupyter-widgets/base",
            "_model_module_version": "1.5.0",
            "_view_count": null,
            "_view_module_version": "1.2.0",
            "bar_color": null,
            "_model_module": "@jupyter-widgets/controls"
          }
        },
        "c7628af48aae448881ef52f3f4cde395": {
          "model_module": "@jupyter-widgets/base",
          "model_name": "LayoutModel",
          "state": {
            "_view_name": "LayoutView",
            "grid_template_rows": null,
            "right": null,
            "justify_content": null,
            "_view_module": "@jupyter-widgets/base",
            "overflow": null,
            "_model_module_version": "1.2.0",
            "_view_count": null,
            "flex_flow": null,
            "width": null,
            "min_width": null,
            "border": null,
            "align_items": null,
            "bottom": null,
            "_model_module": "@jupyter-widgets/base",
            "top": null,
            "grid_column": null,
            "overflow_y": null,
            "overflow_x": null,
            "grid_auto_flow": null,
            "grid_area": null,
            "grid_template_columns": null,
            "flex": null,
            "_model_name": "LayoutModel",
            "justify_items": null,
            "grid_row": null,
            "max_height": null,
            "align_content": null,
            "visibility": null,
            "align_self": null,
            "height": null,
            "min_height": null,
            "padding": null,
            "grid_auto_rows": null,
            "grid_gap": null,
            "max_width": null,
            "order": null,
            "_view_module_version": "1.2.0",
            "grid_template_areas": null,
            "object_position": null,
            "object_fit": null,
            "grid_auto_columns": null,
            "margin": null,
            "display": null,
            "left": null
          }
        },
        "8b7be87e49d540c3a303ac950b301320": {
          "model_module": "@jupyter-widgets/controls",
          "model_name": "DescriptionStyleModel",
          "state": {
            "_view_name": "StyleView",
            "_model_name": "DescriptionStyleModel",
            "description_width": "",
            "_view_module": "@jupyter-widgets/base",
            "_model_module_version": "1.5.0",
            "_view_count": null,
            "_view_module_version": "1.2.0",
            "_model_module": "@jupyter-widgets/controls"
          }
        },
        "bd8046d3cf1546449df54a55a9627571": {
          "model_module": "@jupyter-widgets/base",
          "model_name": "LayoutModel",
          "state": {
            "_view_name": "LayoutView",
            "grid_template_rows": null,
            "right": null,
            "justify_content": null,
            "_view_module": "@jupyter-widgets/base",
            "overflow": null,
            "_model_module_version": "1.2.0",
            "_view_count": null,
            "flex_flow": null,
            "width": null,
            "min_width": null,
            "border": null,
            "align_items": null,
            "bottom": null,
            "_model_module": "@jupyter-widgets/base",
            "top": null,
            "grid_column": null,
            "overflow_y": null,
            "overflow_x": null,
            "grid_auto_flow": null,
            "grid_area": null,
            "grid_template_columns": null,
            "flex": null,
            "_model_name": "LayoutModel",
            "justify_items": null,
            "grid_row": null,
            "max_height": null,
            "align_content": null,
            "visibility": null,
            "align_self": null,
            "height": null,
            "min_height": null,
            "padding": null,
            "grid_auto_rows": null,
            "grid_gap": null,
            "max_width": null,
            "order": null,
            "_view_module_version": "1.2.0",
            "grid_template_areas": null,
            "object_position": null,
            "object_fit": null,
            "grid_auto_columns": null,
            "margin": null,
            "display": null,
            "left": null
          }
        },
        "4d550209b80c49c7b46422ab6e08e063": {
          "model_module": "@jupyter-widgets/controls",
          "model_name": "HBoxModel",
          "state": {
            "_view_name": "HBoxView",
            "_dom_classes": [],
            "_model_name": "HBoxModel",
            "_view_module": "@jupyter-widgets/controls",
            "_model_module_version": "1.5.0",
            "_view_count": null,
            "_view_module_version": "1.5.0",
            "box_style": "",
            "layout": "IPY_MODEL_c05ff498ab7b4d7eb216690be1d4a878",
            "_model_module": "@jupyter-widgets/controls",
            "children": [
              "IPY_MODEL_9b68356dfa224059b9013c3956d1176d",
              "IPY_MODEL_8f2c21ddf6ee4ae2a8c4bc2a17a65609"
            ]
          }
        },
        "c05ff498ab7b4d7eb216690be1d4a878": {
          "model_module": "@jupyter-widgets/base",
          "model_name": "LayoutModel",
          "state": {
            "_view_name": "LayoutView",
            "grid_template_rows": null,
            "right": null,
            "justify_content": null,
            "_view_module": "@jupyter-widgets/base",
            "overflow": null,
            "_model_module_version": "1.2.0",
            "_view_count": null,
            "flex_flow": null,
            "width": null,
            "min_width": null,
            "border": null,
            "align_items": null,
            "bottom": null,
            "_model_module": "@jupyter-widgets/base",
            "top": null,
            "grid_column": null,
            "overflow_y": null,
            "overflow_x": null,
            "grid_auto_flow": null,
            "grid_area": null,
            "grid_template_columns": null,
            "flex": null,
            "_model_name": "LayoutModel",
            "justify_items": null,
            "grid_row": null,
            "max_height": null,
            "align_content": null,
            "visibility": null,
            "align_self": null,
            "height": null,
            "min_height": null,
            "padding": null,
            "grid_auto_rows": null,
            "grid_gap": null,
            "max_width": null,
            "order": null,
            "_view_module_version": "1.2.0",
            "grid_template_areas": null,
            "object_position": null,
            "object_fit": null,
            "grid_auto_columns": null,
            "margin": null,
            "display": null,
            "left": null
          }
        },
        "9b68356dfa224059b9013c3956d1176d": {
          "model_module": "@jupyter-widgets/controls",
          "model_name": "FloatProgressModel",
          "state": {
            "_view_name": "ProgressView",
            "style": "IPY_MODEL_5db51dc2888e41cfb8c7fce43caa5e06",
            "_dom_classes": [],
            "description": "Downloading: 100%",
            "_model_name": "FloatProgressModel",
            "bar_style": "success",
            "max": 25,
            "_view_module": "@jupyter-widgets/controls",
            "_model_module_version": "1.5.0",
            "value": 25,
            "_view_count": null,
            "_view_module_version": "1.5.0",
            "orientation": "horizontal",
            "min": 0,
            "description_tooltip": null,
            "_model_module": "@jupyter-widgets/controls",
            "layout": "IPY_MODEL_1744051e2ed449ddaee135f10e5eaf44"
          }
        },
        "8f2c21ddf6ee4ae2a8c4bc2a17a65609": {
          "model_module": "@jupyter-widgets/controls",
          "model_name": "HTMLModel",
          "state": {
            "_view_name": "HTMLView",
            "style": "IPY_MODEL_41d1971513064bbaac3884dda1650266",
            "_dom_classes": [],
            "description": "",
            "_model_name": "HTMLModel",
            "placeholder": "​",
            "_view_module": "@jupyter-widgets/controls",
            "_model_module_version": "1.5.0",
            "value": " 25.0/25.0 [00:00&lt;00:00, 168B/s]",
            "_view_count": null,
            "_view_module_version": "1.5.0",
            "description_tooltip": null,
            "_model_module": "@jupyter-widgets/controls",
            "layout": "IPY_MODEL_49a3525c39314b2f9f365252f5caa3d2"
          }
        },
        "5db51dc2888e41cfb8c7fce43caa5e06": {
          "model_module": "@jupyter-widgets/controls",
          "model_name": "ProgressStyleModel",
          "state": {
            "_view_name": "StyleView",
            "_model_name": "ProgressStyleModel",
            "description_width": "initial",
            "_view_module": "@jupyter-widgets/base",
            "_model_module_version": "1.5.0",
            "_view_count": null,
            "_view_module_version": "1.2.0",
            "bar_color": null,
            "_model_module": "@jupyter-widgets/controls"
          }
        },
        "1744051e2ed449ddaee135f10e5eaf44": {
          "model_module": "@jupyter-widgets/base",
          "model_name": "LayoutModel",
          "state": {
            "_view_name": "LayoutView",
            "grid_template_rows": null,
            "right": null,
            "justify_content": null,
            "_view_module": "@jupyter-widgets/base",
            "overflow": null,
            "_model_module_version": "1.2.0",
            "_view_count": null,
            "flex_flow": null,
            "width": null,
            "min_width": null,
            "border": null,
            "align_items": null,
            "bottom": null,
            "_model_module": "@jupyter-widgets/base",
            "top": null,
            "grid_column": null,
            "overflow_y": null,
            "overflow_x": null,
            "grid_auto_flow": null,
            "grid_area": null,
            "grid_template_columns": null,
            "flex": null,
            "_model_name": "LayoutModel",
            "justify_items": null,
            "grid_row": null,
            "max_height": null,
            "align_content": null,
            "visibility": null,
            "align_self": null,
            "height": null,
            "min_height": null,
            "padding": null,
            "grid_auto_rows": null,
            "grid_gap": null,
            "max_width": null,
            "order": null,
            "_view_module_version": "1.2.0",
            "grid_template_areas": null,
            "object_position": null,
            "object_fit": null,
            "grid_auto_columns": null,
            "margin": null,
            "display": null,
            "left": null
          }
        },
        "41d1971513064bbaac3884dda1650266": {
          "model_module": "@jupyter-widgets/controls",
          "model_name": "DescriptionStyleModel",
          "state": {
            "_view_name": "StyleView",
            "_model_name": "DescriptionStyleModel",
            "description_width": "",
            "_view_module": "@jupyter-widgets/base",
            "_model_module_version": "1.5.0",
            "_view_count": null,
            "_view_module_version": "1.2.0",
            "_model_module": "@jupyter-widgets/controls"
          }
        },
        "49a3525c39314b2f9f365252f5caa3d2": {
          "model_module": "@jupyter-widgets/base",
          "model_name": "LayoutModel",
          "state": {
            "_view_name": "LayoutView",
            "grid_template_rows": null,
            "right": null,
            "justify_content": null,
            "_view_module": "@jupyter-widgets/base",
            "overflow": null,
            "_model_module_version": "1.2.0",
            "_view_count": null,
            "flex_flow": null,
            "width": null,
            "min_width": null,
            "border": null,
            "align_items": null,
            "bottom": null,
            "_model_module": "@jupyter-widgets/base",
            "top": null,
            "grid_column": null,
            "overflow_y": null,
            "overflow_x": null,
            "grid_auto_flow": null,
            "grid_area": null,
            "grid_template_columns": null,
            "flex": null,
            "_model_name": "LayoutModel",
            "justify_items": null,
            "grid_row": null,
            "max_height": null,
            "align_content": null,
            "visibility": null,
            "align_self": null,
            "height": null,
            "min_height": null,
            "padding": null,
            "grid_auto_rows": null,
            "grid_gap": null,
            "max_width": null,
            "order": null,
            "_view_module_version": "1.2.0",
            "grid_template_areas": null,
            "object_position": null,
            "object_fit": null,
            "grid_auto_columns": null,
            "margin": null,
            "display": null,
            "left": null
          }
        },
        "5fa2d2134dbb4b3ea281402a04f90f30": {
          "model_module": "@jupyter-widgets/controls",
          "model_name": "HBoxModel",
          "state": {
            "_view_name": "HBoxView",
            "_dom_classes": [],
            "_model_name": "HBoxModel",
            "_view_module": "@jupyter-widgets/controls",
            "_model_module_version": "1.5.0",
            "_view_count": null,
            "_view_module_version": "1.5.0",
            "box_style": "",
            "layout": "IPY_MODEL_50a3e78f342242b7a0483a28721051bb",
            "_model_module": "@jupyter-widgets/controls",
            "children": [
              "IPY_MODEL_ce9fdb796e04433a98451deca7d0d877",
              "IPY_MODEL_0ed04ab74999442a84d32378b7121af1"
            ]
          }
        },
        "50a3e78f342242b7a0483a28721051bb": {
          "model_module": "@jupyter-widgets/base",
          "model_name": "LayoutModel",
          "state": {
            "_view_name": "LayoutView",
            "grid_template_rows": null,
            "right": null,
            "justify_content": null,
            "_view_module": "@jupyter-widgets/base",
            "overflow": null,
            "_model_module_version": "1.2.0",
            "_view_count": null,
            "flex_flow": null,
            "width": null,
            "min_width": null,
            "border": null,
            "align_items": null,
            "bottom": null,
            "_model_module": "@jupyter-widgets/base",
            "top": null,
            "grid_column": null,
            "overflow_y": null,
            "overflow_x": null,
            "grid_auto_flow": null,
            "grid_area": null,
            "grid_template_columns": null,
            "flex": null,
            "_model_name": "LayoutModel",
            "justify_items": null,
            "grid_row": null,
            "max_height": null,
            "align_content": null,
            "visibility": null,
            "align_self": null,
            "height": null,
            "min_height": null,
            "padding": null,
            "grid_auto_rows": null,
            "grid_gap": null,
            "max_width": null,
            "order": null,
            "_view_module_version": "1.2.0",
            "grid_template_areas": null,
            "object_position": null,
            "object_fit": null,
            "grid_auto_columns": null,
            "margin": null,
            "display": null,
            "left": null
          }
        },
        "ce9fdb796e04433a98451deca7d0d877": {
          "model_module": "@jupyter-widgets/controls",
          "model_name": "FloatProgressModel",
          "state": {
            "_view_name": "ProgressView",
            "style": "IPY_MODEL_df936a6c094c4c119c1083510b59861a",
            "_dom_classes": [],
            "description": "Downloading: 100%",
            "_model_name": "FloatProgressModel",
            "bar_style": "success",
            "max": 46747112,
            "_view_module": "@jupyter-widgets/controls",
            "_model_module_version": "1.5.0",
            "value": 46747112,
            "_view_count": null,
            "_view_module_version": "1.5.0",
            "orientation": "horizontal",
            "min": 0,
            "description_tooltip": null,
            "_model_module": "@jupyter-widgets/controls",
            "layout": "IPY_MODEL_90ae31ebc5c44604b7aeec50c02e387d"
          }
        },
        "0ed04ab74999442a84d32378b7121af1": {
          "model_module": "@jupyter-widgets/controls",
          "model_name": "HTMLModel",
          "state": {
            "_view_name": "HTMLView",
            "style": "IPY_MODEL_dc7f57cb00d449a99529f6a085385f51",
            "_dom_classes": [],
            "description": "",
            "_model_name": "HTMLModel",
            "placeholder": "​",
            "_view_module": "@jupyter-widgets/controls",
            "_model_module_version": "1.5.0",
            "value": " 46.7M/46.7M [00:01&lt;00:00, 32.6MB/s]",
            "_view_count": null,
            "_view_module_version": "1.5.0",
            "description_tooltip": null,
            "_model_module": "@jupyter-widgets/controls",
            "layout": "IPY_MODEL_60910a091ce14f929406dd5a1e26f70f"
          }
        },
        "df936a6c094c4c119c1083510b59861a": {
          "model_module": "@jupyter-widgets/controls",
          "model_name": "ProgressStyleModel",
          "state": {
            "_view_name": "StyleView",
            "_model_name": "ProgressStyleModel",
            "description_width": "initial",
            "_view_module": "@jupyter-widgets/base",
            "_model_module_version": "1.5.0",
            "_view_count": null,
            "_view_module_version": "1.2.0",
            "bar_color": null,
            "_model_module": "@jupyter-widgets/controls"
          }
        },
        "90ae31ebc5c44604b7aeec50c02e387d": {
          "model_module": "@jupyter-widgets/base",
          "model_name": "LayoutModel",
          "state": {
            "_view_name": "LayoutView",
            "grid_template_rows": null,
            "right": null,
            "justify_content": null,
            "_view_module": "@jupyter-widgets/base",
            "overflow": null,
            "_model_module_version": "1.2.0",
            "_view_count": null,
            "flex_flow": null,
            "width": null,
            "min_width": null,
            "border": null,
            "align_items": null,
            "bottom": null,
            "_model_module": "@jupyter-widgets/base",
            "top": null,
            "grid_column": null,
            "overflow_y": null,
            "overflow_x": null,
            "grid_auto_flow": null,
            "grid_area": null,
            "grid_template_columns": null,
            "flex": null,
            "_model_name": "LayoutModel",
            "justify_items": null,
            "grid_row": null,
            "max_height": null,
            "align_content": null,
            "visibility": null,
            "align_self": null,
            "height": null,
            "min_height": null,
            "padding": null,
            "grid_auto_rows": null,
            "grid_gap": null,
            "max_width": null,
            "order": null,
            "_view_module_version": "1.2.0",
            "grid_template_areas": null,
            "object_position": null,
            "object_fit": null,
            "grid_auto_columns": null,
            "margin": null,
            "display": null,
            "left": null
          }
        },
        "dc7f57cb00d449a99529f6a085385f51": {
          "model_module": "@jupyter-widgets/controls",
          "model_name": "DescriptionStyleModel",
          "state": {
            "_view_name": "StyleView",
            "_model_name": "DescriptionStyleModel",
            "description_width": "",
            "_view_module": "@jupyter-widgets/base",
            "_model_module_version": "1.5.0",
            "_view_count": null,
            "_view_module_version": "1.2.0",
            "_model_module": "@jupyter-widgets/controls"
          }
        },
        "60910a091ce14f929406dd5a1e26f70f": {
          "model_module": "@jupyter-widgets/base",
          "model_name": "LayoutModel",
          "state": {
            "_view_name": "LayoutView",
            "grid_template_rows": null,
            "right": null,
            "justify_content": null,
            "_view_module": "@jupyter-widgets/base",
            "overflow": null,
            "_model_module_version": "1.2.0",
            "_view_count": null,
            "flex_flow": null,
            "width": null,
            "min_width": null,
            "border": null,
            "align_items": null,
            "bottom": null,
            "_model_module": "@jupyter-widgets/base",
            "top": null,
            "grid_column": null,
            "overflow_y": null,
            "overflow_x": null,
            "grid_auto_flow": null,
            "grid_area": null,
            "grid_template_columns": null,
            "flex": null,
            "_model_name": "LayoutModel",
            "justify_items": null,
            "grid_row": null,
            "max_height": null,
            "align_content": null,
            "visibility": null,
            "align_self": null,
            "height": null,
            "min_height": null,
            "padding": null,
            "grid_auto_rows": null,
            "grid_gap": null,
            "max_width": null,
            "order": null,
            "_view_module_version": "1.2.0",
            "grid_template_areas": null,
            "object_position": null,
            "object_fit": null,
            "grid_auto_columns": null,
            "margin": null,
            "display": null,
            "left": null
          }
        }
      }
    }
  },
  "cells": [
    {
      "cell_type": "markdown",
      "metadata": {
        "id": "view-in-github",
        "colab_type": "text"
      },
      "source": [
        "<a href=\"https://colab.research.google.com/github/ViciousCricket/TD-Python-FoodCrop/blob/master/Image.ipynb\" target=\"_parent\"><img src=\"https://colab.research.google.com/assets/colab-badge.svg\" alt=\"Open In Colab\"/></a>"
      ]
    },
    {
      "cell_type": "markdown",
      "metadata": {
        "id": "ZbXzTqqnIDye"
      },
      "source": [
        "## Import"
      ]
    },
    {
      "cell_type": "code",
      "metadata": {
        "id": "3CWFDCNYK1Vv"
      },
      "source": [
        "import torch\r\n",
        "\r\n",
        "from torch.utils.data import dataloader\r\n",
        "from torch.utils.data import Dataset\r\n",
        "\r\n",
        "import torchvision.transforms as transforms\r\n",
        "\r\n",
        "from PIL import Image\r\n",
        "\r\n",
        "import pandas as pd\r\n",
        "\r\n",
        "from typing import Any, Callable, Optional, Tuple"
      ],
      "execution_count": 1,
      "outputs": []
    },
    {
      "cell_type": "code",
      "metadata": {
        "colab": {
          "base_uri": "https://localhost:8080/"
        },
        "id": "4Zuk7qvsma7F",
        "outputId": "f3f941fb-5341-4c69-a94a-212a51ab8fbd"
      },
      "source": [
        "!pip install transformers\r\n",
        "!pip install datasets\r\n",
        "!pip install sentencepiece"
      ],
      "execution_count": 2,
      "outputs": [
        {
          "output_type": "stream",
          "text": [
            "Collecting transformers\n",
            "\u001b[?25l  Downloading https://files.pythonhosted.org/packages/ed/db/98c3ea1a78190dac41c0127a063abf92bd01b4b0b6970a6db1c2f5b66fa0/transformers-4.0.1-py3-none-any.whl (1.4MB)\n",
            "\u001b[K     |████████████████████████████████| 1.4MB 6.6MB/s \n",
            "\u001b[?25hRequirement already satisfied: filelock in /usr/local/lib/python3.6/dist-packages (from transformers) (3.0.12)\n",
            "Requirement already satisfied: packaging in /usr/local/lib/python3.6/dist-packages (from transformers) (20.7)\n",
            "Requirement already satisfied: dataclasses; python_version < \"3.7\" in /usr/local/lib/python3.6/dist-packages (from transformers) (0.8)\n",
            "Requirement already satisfied: numpy in /usr/local/lib/python3.6/dist-packages (from transformers) (1.18.5)\n",
            "Requirement already satisfied: regex!=2019.12.17 in /usr/local/lib/python3.6/dist-packages (from transformers) (2019.12.20)\n",
            "Requirement already satisfied: tqdm>=4.27 in /usr/local/lib/python3.6/dist-packages (from transformers) (4.41.1)\n",
            "Collecting tokenizers==0.9.4\n",
            "\u001b[?25l  Downloading https://files.pythonhosted.org/packages/0f/1c/e789a8b12e28be5bc1ce2156cf87cb522b379be9cadc7ad8091a4cc107c4/tokenizers-0.9.4-cp36-cp36m-manylinux2010_x86_64.whl (2.9MB)\n",
            "\u001b[K     |████████████████████████████████| 2.9MB 35.7MB/s \n",
            "\u001b[?25hCollecting sacremoses\n",
            "\u001b[?25l  Downloading https://files.pythonhosted.org/packages/7d/34/09d19aff26edcc8eb2a01bed8e98f13a1537005d31e95233fd48216eed10/sacremoses-0.0.43.tar.gz (883kB)\n",
            "\u001b[K     |████████████████████████████████| 890kB 29.1MB/s \n",
            "\u001b[?25hRequirement already satisfied: requests in /usr/local/lib/python3.6/dist-packages (from transformers) (2.23.0)\n",
            "Requirement already satisfied: pyparsing>=2.0.2 in /usr/local/lib/python3.6/dist-packages (from packaging->transformers) (2.4.7)\n",
            "Requirement already satisfied: six in /usr/local/lib/python3.6/dist-packages (from sacremoses->transformers) (1.15.0)\n",
            "Requirement already satisfied: click in /usr/local/lib/python3.6/dist-packages (from sacremoses->transformers) (7.1.2)\n",
            "Requirement already satisfied: joblib in /usr/local/lib/python3.6/dist-packages (from sacremoses->transformers) (0.17.0)\n",
            "Requirement already satisfied: urllib3!=1.25.0,!=1.25.1,<1.26,>=1.21.1 in /usr/local/lib/python3.6/dist-packages (from requests->transformers) (1.24.3)\n",
            "Requirement already satisfied: idna<3,>=2.5 in /usr/local/lib/python3.6/dist-packages (from requests->transformers) (2.10)\n",
            "Requirement already satisfied: chardet<4,>=3.0.2 in /usr/local/lib/python3.6/dist-packages (from requests->transformers) (3.0.4)\n",
            "Requirement already satisfied: certifi>=2017.4.17 in /usr/local/lib/python3.6/dist-packages (from requests->transformers) (2020.12.5)\n",
            "Building wheels for collected packages: sacremoses\n",
            "  Building wheel for sacremoses (setup.py) ... \u001b[?25l\u001b[?25hdone\n",
            "  Created wheel for sacremoses: filename=sacremoses-0.0.43-cp36-none-any.whl size=893261 sha256=9f0c0b50dd1d6b8c29fbe8e3000e35e107e097e767de7ea9292b7b6f3fcda79d\n",
            "  Stored in directory: /root/.cache/pip/wheels/29/3c/fd/7ce5c3f0666dab31a50123635e6fb5e19ceb42ce38d4e58f45\n",
            "Successfully built sacremoses\n",
            "Installing collected packages: tokenizers, sacremoses, transformers\n",
            "Successfully installed sacremoses-0.0.43 tokenizers-0.9.4 transformers-4.0.1\n",
            "Collecting datasets\n",
            "\u001b[?25l  Downloading https://files.pythonhosted.org/packages/1a/38/0c24dce24767386123d528d27109024220db0e7a04467b658d587695241a/datasets-1.1.3-py3-none-any.whl (153kB)\n",
            "\u001b[K     |████████████████████████████████| 163kB 7.1MB/s \n",
            "\u001b[?25hRequirement already satisfied: pandas in /usr/local/lib/python3.6/dist-packages (from datasets) (1.1.5)\n",
            "Requirement already satisfied: numpy>=1.17 in /usr/local/lib/python3.6/dist-packages (from datasets) (1.18.5)\n",
            "Requirement already satisfied: tqdm<4.50.0,>=4.27 in /usr/local/lib/python3.6/dist-packages (from datasets) (4.41.1)\n",
            "Requirement already satisfied: dataclasses; python_version < \"3.7\" in /usr/local/lib/python3.6/dist-packages (from datasets) (0.8)\n",
            "Collecting pyarrow>=0.17.1\n",
            "\u001b[?25l  Downloading https://files.pythonhosted.org/packages/d7/e1/27958a70848f8f7089bff8d6ebe42519daf01f976d28b481e1bfd52c8097/pyarrow-2.0.0-cp36-cp36m-manylinux2014_x86_64.whl (17.7MB)\n",
            "\u001b[K     |████████████████████████████████| 17.7MB 181kB/s \n",
            "\u001b[?25hRequirement already satisfied: dill in /usr/local/lib/python3.6/dist-packages (from datasets) (0.3.3)\n",
            "Requirement already satisfied: requests>=2.19.0 in /usr/local/lib/python3.6/dist-packages (from datasets) (2.23.0)\n",
            "Requirement already satisfied: multiprocess in /usr/local/lib/python3.6/dist-packages (from datasets) (0.70.11.1)\n",
            "Collecting xxhash\n",
            "\u001b[?25l  Downloading https://files.pythonhosted.org/packages/f7/73/826b19f3594756cb1c6c23d2fbd8ca6a77a9cd3b650c9dec5acc85004c38/xxhash-2.0.0-cp36-cp36m-manylinux2010_x86_64.whl (242kB)\n",
            "\u001b[K     |████████████████████████████████| 245kB 37.7MB/s \n",
            "\u001b[?25hRequirement already satisfied: pytz>=2017.2 in /usr/local/lib/python3.6/dist-packages (from pandas->datasets) (2018.9)\n",
            "Requirement already satisfied: python-dateutil>=2.7.3 in /usr/local/lib/python3.6/dist-packages (from pandas->datasets) (2.8.1)\n",
            "Requirement already satisfied: urllib3!=1.25.0,!=1.25.1,<1.26,>=1.21.1 in /usr/local/lib/python3.6/dist-packages (from requests>=2.19.0->datasets) (1.24.3)\n",
            "Requirement already satisfied: certifi>=2017.4.17 in /usr/local/lib/python3.6/dist-packages (from requests>=2.19.0->datasets) (2020.12.5)\n",
            "Requirement already satisfied: idna<3,>=2.5 in /usr/local/lib/python3.6/dist-packages (from requests>=2.19.0->datasets) (2.10)\n",
            "Requirement already satisfied: chardet<4,>=3.0.2 in /usr/local/lib/python3.6/dist-packages (from requests>=2.19.0->datasets) (3.0.4)\n",
            "Requirement already satisfied: six>=1.5 in /usr/local/lib/python3.6/dist-packages (from python-dateutil>=2.7.3->pandas->datasets) (1.15.0)\n",
            "Installing collected packages: pyarrow, xxhash, datasets\n",
            "  Found existing installation: pyarrow 0.14.1\n",
            "    Uninstalling pyarrow-0.14.1:\n",
            "      Successfully uninstalled pyarrow-0.14.1\n",
            "Successfully installed datasets-1.1.3 pyarrow-2.0.0 xxhash-2.0.0\n",
            "Collecting sentencepiece\n",
            "\u001b[?25l  Downloading https://files.pythonhosted.org/packages/e5/2d/6d4ca4bef9a67070fa1cac508606328329152b1df10bdf31fb6e4e727894/sentencepiece-0.1.94-cp36-cp36m-manylinux2014_x86_64.whl (1.1MB)\n",
            "\u001b[K     |████████████████████████████████| 1.1MB 5.3MB/s \n",
            "\u001b[?25hInstalling collected packages: sentencepiece\n",
            "Successfully installed sentencepiece-0.1.94\n"
          ],
          "name": "stdout"
        }
      ]
    },
    {
      "cell_type": "code",
      "metadata": {
        "colab": {
          "base_uri": "https://localhost:8080/",
          "height": 36
        },
        "id": "wXqF9C_Dmonz",
        "outputId": "43d8ad29-2ef6-4e54-abd3-3f9c26909af4"
      },
      "source": [
        "import torch\r\n",
        "torch.__version__"
      ],
      "execution_count": 3,
      "outputs": [
        {
          "output_type": "execute_result",
          "data": {
            "application/vnd.google.colaboratory.intrinsic+json": {
              "type": "string"
            },
            "text/plain": [
              "'1.7.0+cu101'"
            ]
          },
          "metadata": {
            "tags": []
          },
          "execution_count": 3
        }
      ]
    },
    {
      "cell_type": "markdown",
      "metadata": {
        "id": "glTy7Cg-IJ-Q"
      },
      "source": [
        "## Load Data"
      ]
    },
    {
      "cell_type": "code",
      "metadata": {
        "id": "VKRSt8BNL1HO"
      },
      "source": [
        "class VQADataset(Dataset):\r\n",
        "  \"\"\"\r\n",
        "    This class loads a shrinked version of the VQA dataset (https://visualqa.org/)\r\n",
        "    Our shrinked version focus on yes/no questions. \r\n",
        "    To load the dataset, we pass a descriptor csv file. \r\n",
        "    \r\n",
        "    Each entry of the csv file has this form:\r\n",
        "\r\n",
        "    question_id ; question_type ; image_name ; question ; answer ; image_id\r\n",
        "\r\n",
        "  \"\"\"\r\n",
        "  def __init__(self, path : str, dataset_descriptor : str, image_folder : str, transform : Callable) -> None:\r\n",
        "    \"\"\"\r\n",
        "      :param: path : a string that indicates the path to the image and question dataset.\r\n",
        "      :param: dataset_descriptor : a string to the csv file name that stores the question ; answer and image name\r\n",
        "      :param: image_folder : a string that indicates the name of the folder that contains the images\r\n",
        "      :param: transform : a torchvision.transforms wrapper to transform the images into tensors \r\n",
        "    \"\"\"\r\n",
        "    super(VQADataset, self).__init__()\r\n",
        "    self.descriptor = pd.read_csv(path + '/' + dataset_descriptor, delimiter=';')\r\n",
        "    self.path = path \r\n",
        "    self.image_folder = image_folder\r\n",
        "    self.transform = transform\r\n",
        "    self.size = len(self.descriptor)\r\n",
        "  \r\n",
        "  def __len__(self) -> int:\r\n",
        "    return self.size\r\n",
        "\r\n",
        "  def __getitem__(self, idx : int) -> Tuple[Any, Any, Any]:\r\n",
        "    \"\"\"\r\n",
        "      returns a tuple : (image, question, answer)\r\n",
        "      image is a Tensor representation of the image\r\n",
        "      question and answer are strings\r\n",
        "    \"\"\"\r\n",
        "    image_name = self.path + '/' + self.image_folder + '/' + self.descriptor[\"image_name\"][idx]\r\n",
        "\r\n",
        "    image = Image.open(image_name).convert('RGB')\r\n",
        "\r\n",
        "    image = self.transform(image)\r\n",
        "\r\n",
        "    question = self.descriptor[\"question\"][idx]\r\n",
        "\r\n",
        "    answer = self.descriptor[\"answer\"][idx]\r\n",
        "\r\n",
        "    return (image, question, answer)"
      ],
      "execution_count": 4,
      "outputs": []
    },
    {
      "cell_type": "code",
      "metadata": {
        "colab": {
          "base_uri": "https://localhost:8080/"
        },
        "id": "3Qo69SxLMH-s",
        "outputId": "d9680fb1-7894-4b21-d7ab-1eb9c0305707"
      },
      "source": [
        "from google.colab import drive\r\n",
        "drive.mount('/content/drive')"
      ],
      "execution_count": 5,
      "outputs": [
        {
          "output_type": "stream",
          "text": [
            "Mounted at /content/drive\n"
          ],
          "name": "stdout"
        }
      ]
    },
    {
      "cell_type": "code",
      "metadata": {
        "id": "V8HYwMsTNQma"
      },
      "source": [
        "from torch.utils.data import DataLoader\r\n",
        "\r\n",
        "# Précisez la localisation de vos données sur Google Drive\r\n",
        "path = \"/content/drive/MyDrive/InAction_Donnee200\"\r\n",
        "image_folder = \"boolean_answers_dataset_images_200\"\r\n",
        "descriptor = \"boolean_answers_dataset_200.csv\"\r\n",
        "\r\n",
        "\r\n",
        "batch_size = 2\r\n",
        "\r\n",
        "# exemples de transformations\r\n",
        "transform = transforms.Compose(\r\n",
        "    [\r\n",
        "     transforms.Resize((224,224)),   #TOUTES LES IMAGES 224/224\r\n",
        "     transforms.ToTensor(),     \r\n",
        "     transforms.Normalize((0.5, 0.5, 0.5), (0.5, 0.5, 0.5))\r\n",
        "    ]\r\n",
        ")\r\n",
        "\r\n",
        "vqa_dataset = VQADataset(path, descriptor, image_folder, transform=transform)\r\n",
        "\r\n",
        "\r\n",
        "vqa_dataloader = DataLoader(vqa_dataset,batch_size=batch_size, shuffle=True, num_workers=0)"
      ],
      "execution_count": 6,
      "outputs": []
    },
    {
      "cell_type": "markdown",
      "metadata": {
        "id": "fyybaRJJIO-d"
      },
      "source": [
        "## Preparation Test + Train et \"yes\" -> 0 \"no\" -> 1"
      ]
    },
    {
      "cell_type": "code",
      "metadata": {
        "colab": {
          "base_uri": "https://localhost:8080/",
          "height": 268,
          "referenced_widgets": [
            "eb93e4ae8cd0427d8935cfd07b3501f1",
            "4c9988c3f05f43a8abf3437c5240ab4a",
            "0232d5974a60436e9063ac9dcb0fc47c",
            "7cac8dadeb6d4f4f845ad363a220e28e",
            "723b69b33c1543ad84153d95a26e0351",
            "98517977eee149cdb84821515a8a0b0e",
            "afc4fbc489d844ae8776ecf4ba2ab076",
            "59c2273d85d8440091e600640db741d1",
            "f0fc225cc99945d8bc1dcea4d5088bc2",
            "f7234d3d153945c7ae084155ea58a26c",
            "412545fa7ab44b2686724aaf21ea778d",
            "9b5e6a690d7f429b92d4d8c146e41093",
            "807fcc23611144f195b8b6061825aac1",
            "e091c9bf385949898bc8cffcb51e4aa5",
            "bb25490dd6c848b4ba51d375b731bd35",
            "6bddffd86b964d33bf1fa5ba13727cad",
            "9b3ce5656d6b441baacd7236c1107cda",
            "32f44d7b5def455986a298a0ca1acfe1",
            "8dd9771c22ed4a519c28bfc22de95779",
            "d7336b39b0994aa09f0b563379198eb1",
            "26216c7fdd97439881f770c15b6f76bd",
            "c7628af48aae448881ef52f3f4cde395",
            "8b7be87e49d540c3a303ac950b301320",
            "bd8046d3cf1546449df54a55a9627571",
            "4d550209b80c49c7b46422ab6e08e063",
            "c05ff498ab7b4d7eb216690be1d4a878",
            "9b68356dfa224059b9013c3956d1176d",
            "8f2c21ddf6ee4ae2a8c4bc2a17a65609",
            "5db51dc2888e41cfb8c7fce43caa5e06",
            "1744051e2ed449ddaee135f10e5eaf44",
            "41d1971513064bbaac3884dda1650266",
            "49a3525c39314b2f9f365252f5caa3d2",
            "5fa2d2134dbb4b3ea281402a04f90f30",
            "50a3e78f342242b7a0483a28721051bb",
            "ce9fdb796e04433a98451deca7d0d877",
            "0ed04ab74999442a84d32378b7121af1",
            "df936a6c094c4c119c1083510b59861a",
            "90ae31ebc5c44604b7aeec50c02e387d",
            "dc7f57cb00d449a99529f6a085385f51",
            "60910a091ce14f929406dd5a1e26f70f"
          ]
        },
        "id": "Wq5TBU9AIRiv",
        "outputId": "5e5debf6-7379-4cd1-cb4a-6b2a214415f5"
      },
      "source": [
        "from transformers import AutoTokenizer, AutoModelForSequenceClassification\r\n",
        "\r\n",
        "# List of pretrained models: https://huggingface.co/models?filter=text-classification\r\n",
        "tokenizer_albert = AutoTokenizer.from_pretrained(\"textattack/albert-base-v2-yelp-polarity\")\r\n",
        "model_albert = AutoModelForSequenceClassification.from_pretrained(\"textattack/albert-base-v2-yelp-polarity\")"
      ],
      "execution_count": 7,
      "outputs": [
        {
          "output_type": "display_data",
          "data": {
            "application/vnd.jupyter.widget-view+json": {
              "model_id": "eb93e4ae8cd0427d8935cfd07b3501f1",
              "version_minor": 0,
              "version_major": 2
            },
            "text/plain": [
              "HBox(children=(FloatProgress(value=0.0, description='Downloading', max=736.0, style=ProgressStyle(description_…"
            ]
          },
          "metadata": {
            "tags": []
          }
        },
        {
          "output_type": "stream",
          "text": [
            "\n"
          ],
          "name": "stdout"
        },
        {
          "output_type": "display_data",
          "data": {
            "application/vnd.jupyter.widget-view+json": {
              "model_id": "f0fc225cc99945d8bc1dcea4d5088bc2",
              "version_minor": 0,
              "version_major": 2
            },
            "text/plain": [
              "HBox(children=(FloatProgress(value=0.0, description='Downloading', max=760289.0, style=ProgressStyle(descripti…"
            ]
          },
          "metadata": {
            "tags": []
          }
        },
        {
          "output_type": "stream",
          "text": [
            "\n"
          ],
          "name": "stdout"
        },
        {
          "output_type": "display_data",
          "data": {
            "application/vnd.jupyter.widget-view+json": {
              "model_id": "9b3ce5656d6b441baacd7236c1107cda",
              "version_minor": 0,
              "version_major": 2
            },
            "text/plain": [
              "HBox(children=(FloatProgress(value=0.0, description='Downloading', max=156.0, style=ProgressStyle(description_…"
            ]
          },
          "metadata": {
            "tags": []
          }
        },
        {
          "output_type": "stream",
          "text": [
            "\n"
          ],
          "name": "stdout"
        },
        {
          "output_type": "display_data",
          "data": {
            "application/vnd.jupyter.widget-view+json": {
              "model_id": "4d550209b80c49c7b46422ab6e08e063",
              "version_minor": 0,
              "version_major": 2
            },
            "text/plain": [
              "HBox(children=(FloatProgress(value=0.0, description='Downloading', max=25.0, style=ProgressStyle(description_w…"
            ]
          },
          "metadata": {
            "tags": []
          }
        },
        {
          "output_type": "stream",
          "text": [
            "\n"
          ],
          "name": "stdout"
        },
        {
          "output_type": "display_data",
          "data": {
            "application/vnd.jupyter.widget-view+json": {
              "model_id": "5fa2d2134dbb4b3ea281402a04f90f30",
              "version_minor": 0,
              "version_major": 2
            },
            "text/plain": [
              "HBox(children=(FloatProgress(value=0.0, description='Downloading', max=46747112.0, style=ProgressStyle(descrip…"
            ]
          },
          "metadata": {
            "tags": []
          }
        },
        {
          "output_type": "stream",
          "text": [
            "\n"
          ],
          "name": "stdout"
        }
      ]
    },
    {
      "cell_type": "markdown",
      "metadata": {
        "id": "dwgiWtFWOUZS"
      },
      "source": [
        "###Préparation des données :"
      ]
    },
    {
      "cell_type": "code",
      "metadata": {
        "colab": {
          "base_uri": "https://localhost:8080/"
        },
        "id": "6EIX_4eDOt8q",
        "outputId": "0d80e981-d64c-42b3-be8a-6f4788a22959"
      },
      "source": [
        "taille = vqa_dataset.__len__()\r\n",
        "trainPercent = 0.8\r\n",
        "tailleTrain = (int)(trainPercent * taille)\r\n",
        "\r\n",
        "trainSet = []\r\n",
        "testSet = []\r\n",
        "question_set = []\r\n",
        "\r\n",
        "\r\n",
        "for i in range(taille):\r\n",
        "\r\n",
        "  ####### OUTPUT Transforme : Yes -> 0   No -> 1\r\n",
        "  output = 1\r\n",
        "  if vqa_dataset.__getitem__(i)[2] == \"yes\":\r\n",
        "    output = 0\r\n",
        "\r\n",
        "\r\n",
        "  ####### IMAGE\r\n",
        "  image = vqa_dataset.__getitem__(i)[0]\r\n",
        "\r\n",
        "  #Taille image : 3*224*224\r\n",
        "\r\n",
        "\r\n",
        "  ####### QUESTION extrait les donnée à l'aide de token + albert model\r\n",
        "\r\n",
        "  question = vqa_dataset.__getitem__(i)[1]\r\n",
        "\r\n",
        "  test_token = tokenizer_albert(question)\r\n",
        "\r\n",
        "  #Informations du token\r\n",
        "  input_ids = torch.LongTensor([test_token['input_ids'],test_token['token_type_ids']])\r\n",
        "  token_type_ids = torch.LongTensor(test_token['token_type_ids'])\r\n",
        "  attention_mask = torch.FloatTensor(test_token['attention_mask'])\r\n",
        "\r\n",
        "\r\n",
        "  value = model_albert.forward(input_ids=input_ids , token_type_ids=token_type_ids, output_hidden_states = True)\r\n",
        "  hidden_states = value[1]\r\n",
        "\r\n",
        "  #On recupere la deniere \"hidden_state\" du model albert\r\n",
        "  last_layer = hidden_states[-1]\r\n",
        "\r\n",
        "  #On reforme les donnée pour etre utilisable\r\n",
        "  last_layer = torch.cat((last_layer[0], last_layer[1]), 1)\r\n",
        "  while len(last_layer)<16:\r\n",
        "    last_layer = torch.cat(  (  last_layer , torch.empty(1,1536)  )  ,0)\r\n",
        "\r\n",
        "  question = last_layer \r\n",
        "  #Forme finale de la question : 16*1536\r\n",
        "\r\n",
        "\r\n",
        "  ####### TRAIN ET TEST SET\r\n",
        "  if i<tailleTrain:\r\n",
        "    trainSet.append([image,question,output])\r\n",
        "  else:\r\n",
        "    testSet.append([image,question,output])\r\n",
        "\r\n",
        "print(\"Taille entrainement :\",len(trainSet))"
      ],
      "execution_count": 8,
      "outputs": [
        {
          "output_type": "stream",
          "text": [
            "Taille entrainement : 160\n"
          ],
          "name": "stdout"
        }
      ]
    },
    {
      "cell_type": "code",
      "metadata": {
        "id": "hF4XI2fV1U-8",
        "colab": {
          "base_uri": "https://localhost:8080/"
        },
        "outputId": "067c49bf-c9b1-42a1-f3a4-8025eb71e573"
      },
      "source": [
        "trainloader = torch.utils.data.DataLoader(trainSet, batch_size=10, shuffle=True)\r\n",
        "testloader = torch.utils.data.DataLoader(testSet, batch_size=10, shuffle=False)\r\n",
        "\r\n",
        "print(trainloader)"
      ],
      "execution_count": 16,
      "outputs": [
        {
          "output_type": "stream",
          "text": [
            "<torch.utils.data.dataloader.DataLoader object at 0x7f851fba3278>\n"
          ],
          "name": "stdout"
        }
      ]
    },
    {
      "cell_type": "markdown",
      "metadata": {
        "id": "x-t42AbGIfe_"
      },
      "source": [
        "## Modele"
      ]
    },
    {
      "cell_type": "code",
      "metadata": {
        "id": "vxipnM4j3DgD"
      },
      "source": [
        "import torch.nn.functional as F"
      ],
      "execution_count": 11,
      "outputs": []
    },
    {
      "cell_type": "code",
      "metadata": {
        "id": "DNVXCSCZ3grN"
      },
      "source": [
        "class LeNet5(torch.nn.Module):\r\n",
        "  \r\n",
        "  def __init__(self, D_out):\r\n",
        "    super(LeNet5, self).__init__()\r\n",
        "\r\n",
        "    #Traitement image\r\n",
        "    self.conv1     = torch.nn.Conv2d(in_channels=3, out_channels=6, kernel_size=(5,5), stride=1, padding=2)\r\n",
        "    self.avg_pool1 = torch.nn.AvgPool2d(kernel_size=(2,2), stride=2)\r\n",
        "    self.conv2     = torch.nn.Conv2d(in_channels=6, out_channels=16, kernel_size=(5,5), stride=1)\r\n",
        "    self.avg_pool2 = torch.nn.AvgPool2d(kernel_size=(2,2), stride=2)\r\n",
        "    self.conv3     = torch.nn.Conv2d(in_channels=16, out_channels=120, kernel_size=(5,5), stride=1) \r\n",
        "    self.avg_pool3 = torch.nn.AvgPool2d(kernel_size=(2,2), stride=2)\r\n",
        "    self.conv4     = torch.nn.Conv2d(in_channels=120, out_channels=240, kernel_size=(5,5), stride=1)\r\n",
        "    self.flatten   = torch.nn.Flatten() #multipli tout   240*21*21\r\n",
        "\r\n",
        "    #Traitement image\r\n",
        "    self.linear1   = torch.nn.Linear(240*21*21, 200)\r\n",
        "\r\n",
        "    #Traitement question\r\n",
        "    self.linear3   = torch.nn.Linear( 16*1536 , 200)\r\n",
        "\r\n",
        "    #Fusion Traitement\r\n",
        "    self.linear2   = torch.nn.Linear( 200+200, D_out)\r\n",
        "\r\n",
        "  def forward(self, x,y):\r\n",
        "    \r\n",
        "    x = F.relu(self.conv1(x) )\r\n",
        "    x = self.avg_pool1(x)\r\n",
        "    x = F.relu( self.conv2(x) )\r\n",
        "    x = self.avg_pool2(x)\r\n",
        "    x = F.relu( self.conv3(x) )\r\n",
        "    x = self.avg_pool3(x)\r\n",
        "    x = F.relu( self.conv4(x) )\r\n",
        "\r\n",
        "\r\n",
        "    y = self.flatten(y) #16*1536\r\n",
        "    x = self.flatten(x) #240*21*21\r\n",
        "\r\n",
        "\r\n",
        "    x = F.relu( self.linear1(x) )\r\n",
        "    y = F.relu( self.linear3(y) )\r\n",
        "\r\n",
        "\r\n",
        "    z = torch.cat((x, y), 1)\r\n",
        "    z = self.linear2(z)\r\n",
        "    \r\n",
        "    return z"
      ],
      "execution_count": 13,
      "outputs": []
    },
    {
      "cell_type": "code",
      "metadata": {
        "id": "BD43NBgI3zaj"
      },
      "source": [
        "def train_optim(model, epochs, log_frequency, device, learning_rate=1e-4):\r\n",
        "\r\n",
        "  model.to(device) \r\n",
        "\r\n",
        "  loss_fn = torch.nn.CrossEntropyLoss(reduction='mean')\r\n",
        "  optimizer = torch.optim.Adam(model.parameters(), lr=learning_rate)\r\n",
        "  \r\n",
        "  for t in range(epochs):\r\n",
        "\r\n",
        "      model.train()\r\n",
        "\r\n",
        "      for batch_id,  batch in enumerate(trainloader) : \r\n",
        "\r\n",
        "        images, questions, labels  = batch\r\n",
        "\r\n",
        "        questions = torch.FloatTensor(questions)\r\n",
        "        questions = questions.to(device)\r\n",
        "        images = images.to(device)\r\n",
        "        labels = torch.LongTensor(labels)\r\n",
        "        labels = labels.to(device)\r\n",
        "\r\n",
        "        # FORWARD\r\n",
        "        y_pred = model(images,questions)\r\n",
        "\r\n",
        "        loss = loss_fn(y_pred, labels)\r\n",
        "\r\n",
        "        if batch_id % log_frequency == 0:\r\n",
        "            print(\"epoch: {:03d}, batch: {:03d}, loss: {:.3f} \".format(t+1, batch_id+1, loss.item()))\r\n",
        "\r\n",
        "        optimizer.zero_grad()\r\n",
        "        loss.backward(retain_graph=True)\r\n",
        "        optimizer.step()\r\n",
        "\r\n",
        "      #ACCURACY Calcul\r\n",
        "      model.eval()\r\n",
        "      total = 0\r\n",
        "      correct = 0\r\n",
        "      for batch_id, batch in enumerate(testloader):\r\n",
        "        images ,questions, labels = batch\r\n",
        "        images , labels = images.to(device), labels.to(device)\r\n",
        "        y_pred = model(images,questions)\r\n",
        "        sf_y_pred = torch.nn.Softmax(dim=1)(y_pred) # softmax\r\n",
        "        _, predicted = torch.max(sf_y_pred , 1)     # decision rule, max\r\n",
        "        \r\n",
        "        total += labels.size(0)\r\n",
        "        correct += (predicted == labels).sum().item()\r\n",
        "      \r\n",
        "      print(\"[validation] accuracy: {:.3f}%\\n\".format(100 * correct / total))"
      ],
      "execution_count": 14,
      "outputs": []
    },
    {
      "cell_type": "markdown",
      "metadata": {
        "id": "mbilNpl3IiQ3"
      },
      "source": [
        "## Lance modele"
      ]
    },
    {
      "cell_type": "code",
      "metadata": {
        "colab": {
          "base_uri": "https://localhost:8080/"
        },
        "id": "RkuZCX1I33wN",
        "outputId": "76044e54-042e-4221-9102-837359f51928"
      },
      "source": [
        "D_out = 2\r\n",
        "\r\n",
        "model = LeNet5(D_out)\r\n",
        "\r\n",
        "## Select the device\r\n",
        "device = torch.device('cuda:0' if torch.cuda.is_available() else 'cpu')\r\n",
        "\r\n",
        "## train the model\r\n",
        "train_optim(model, epochs=10, log_frequency=60, device=device, learning_rate=1e-4)"
      ],
      "execution_count": 17,
      "outputs": [
        {
          "output_type": "stream",
          "text": [
            "epoch: 001, batch: 001, loss: 8688216.000 \n",
            "[validation] accuracy: 52.500%\n",
            "\n",
            "epoch: 002, batch: 001, loss: 366067073673974513664.000 \n",
            "[validation] accuracy: 55.000%\n",
            "\n",
            "epoch: 003, batch: 001, loss: 1668934195042107929147736064.000 \n",
            "[validation] accuracy: 55.000%\n",
            "\n",
            "epoch: 004, batch: 001, loss: 128.590 \n",
            "[validation] accuracy: 52.500%\n",
            "\n",
            "epoch: 005, batch: 001, loss: 5409780711427616912755916800.000 \n",
            "[validation] accuracy: 65.000%\n",
            "\n",
            "epoch: 006, batch: 001, loss: 367889870438780633088.000 \n",
            "[validation] accuracy: 60.000%\n",
            "\n",
            "epoch: 007, batch: 001, loss: 1626213749376685452751273984.000 \n",
            "[validation] accuracy: 50.000%\n",
            "\n",
            "epoch: 008, batch: 001, loss: 5252301004844311060286537728.000 \n",
            "[validation] accuracy: 67.500%\n",
            "\n",
            "epoch: 009, batch: 001, loss: 367902290522127990784.000 \n",
            "[validation] accuracy: 55.000%\n",
            "\n",
            "epoch: 010, batch: 001, loss: 3679648428381437952.000 \n",
            "[validation] accuracy: 62.500%\n",
            "\n"
          ],
          "name": "stdout"
        }
      ]
    }
  ]
}